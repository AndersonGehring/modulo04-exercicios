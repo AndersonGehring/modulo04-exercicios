{
 "cells": [
  {
   "cell_type": "markdown",
   "metadata": {},
   "source": [
    "# Tarefa 03\n",
    "\n",
    "- Leia os enunciados com atenção\n",
    "- Saiba que pode haver mais de uma resposta correta\n",
    "- Insira novas células de código sempre que achar necessário\n",
    "- Em caso de dúvidas, procure os Tutores\n",
    "- Divirta-se :)"
   ]
  },
  {
   "cell_type": "code",
   "execution_count": 2,
   "metadata": {},
   "outputs": [],
   "source": [
    "import pandas as pd\n",
    "import requests"
   ]
  },
  {
   "cell_type": "markdown",
   "metadata": {},
   "source": [
    "####  1) Lendo de APIs\n",
    "Vimos em aula como carregar dados públicos do governo através de um API (*Application Programming Interface*). No exemplo de aula, baixamos os dados de pedidos de verificação de limites (PVL) realizados por estados, e selecionamos apenas aqueles referentes ao estado de São Paulo.\n",
    "\n",
    "1. Repita os mesmos passos feitos em aula, mas selecione os PVLs realizados por municípios no estado do Rio de Janeiro.\n",
    "2. Quais são os três *status* das solicitações mais frequentes na base? Quais são suas frequências?\n",
    "3. Construa uma nova variável que contenha o ano do **status**. Observe que ```data_status``` vem como tipo *object* no **DataFrame**. Dica: você pode usar o método ```.str``` para transformar o tipo da variável em string, em seguida um método como [**slice()**](https://pandas.pydata.org/docs/reference/api/pandas.Series.str.slice.html) ou [**split()**](https://pandas.pydata.org/pandas-docs/stable/reference/api/pandas.Series.str.split.html).\n",
    "4. Indique a frequência de cada ano do campo construído no item (3)."
   ]
  },
  {
   "cell_type": "code",
   "execution_count": 31,
   "metadata": {},
   "outputs": [],
   "source": [
    "# 1) Seu código aqui\n",
    "url = 'https://apidatalake.tesouro.gov.br/ords/sadipem/tt/pvl?uf=RJ&tipo_interessado=Munic%C3%ADpio'"
   ]
  },
  {
   "cell_type": "code",
   "execution_count": 32,
   "metadata": {},
   "outputs": [
    {
     "data": {
      "text/plain": [
       "uf\n",
       "RJ    262\n",
       "Name: count, dtype: int64"
      ]
     },
     "execution_count": 32,
     "metadata": {},
     "output_type": "execute_result"
    }
   ],
   "source": [
    "r = requests.get(url)\n",
    "data_json = r.json()\n",
    "df_rj = pd.DataFrame(data_json['items'])\n",
    "df_rj['uf'].value_counts()"
   ]
  },
  {
   "cell_type": "code",
   "execution_count": 33,
   "metadata": {},
   "outputs": [
    {
     "name": "stdout",
     "output_type": "stream",
     "text": [
      "Os três status das solicitações mais frequentes são:\n",
      "\n",
      "1 Deferido: 106\n",
      "2 Arquivado: 53\n",
      "3 Regularizado: 26\n"
     ]
    },
    {
     "name": "stderr",
     "output_type": "stream",
     "text": [
      "/var/folders/yw/794nzgz50z5bs7qczf9_vl580000gn/T/ipykernel_21107/1880559267.py:5: FutureWarning: Series.__getitem__ treating keys as positions is deprecated. In a future version, integer keys will always be treated as labels (consistent with DataFrame behavior). To access a value by position, use `ser.iloc[pos]`\n",
      "  print(f'{i+1} {status.index[i]}: {status[i]}')\n"
     ]
    }
   ],
   "source": [
    "# 2) Seu código aqui\n",
    "status = df.status.value_counts()\n",
    "print('Os três status das solicitações mais frequentes são:\\n')\n",
    "for i in range(3):\n",
    "    print(f'{i+1} {status.index[i]}: {status[i]}')"
   ]
  },
  {
   "cell_type": "code",
   "execution_count": 46,
   "metadata": {},
   "outputs": [
    {
     "data": {
      "text/plain": [
       "0      2020\n",
       "1      2024\n",
       "2      2023\n",
       "3      2022\n",
       "4      2012\n",
       "       ... \n",
       "257    2020\n",
       "258    2020\n",
       "259    2020\n",
       "260    2021\n",
       "261    2014\n",
       "Name: data_status, Length: 262, dtype: object"
      ]
     },
     "execution_count": 46,
     "metadata": {},
     "output_type": "execute_result"
    }
   ],
   "source": [
    "# 3) Seu código aqui\n",
    "ano_status = df_rj['data_status'].str.slice(6)\n",
    "ano_status"
   ]
  },
  {
   "cell_type": "code",
   "execution_count": 48,
   "metadata": {},
   "outputs": [
    {
     "data": {
      "text/plain": [
       "data_status\n",
       "2008    37\n",
       "2007    29\n",
       "2023    28\n",
       "2014    20\n",
       "2010    19\n",
       "2019    16\n",
       "2020    15\n",
       "2013    15\n",
       "2012    13\n",
       "2022    11\n",
       "2011    10\n",
       "2009     9\n",
       "2015     8\n",
       "2017     5\n",
       "2021     5\n",
       "2024     4\n",
       "2018     4\n",
       "2016     4\n",
       "2002     4\n",
       "2006     4\n",
       "2003     1\n",
       "2004     1\n",
       "Name: count, dtype: int64"
      ]
     },
     "execution_count": 48,
     "metadata": {},
     "output_type": "execute_result"
    }
   ],
   "source": [
    "# 4) indica a frequência de cada ano\n",
    "ano_status.value_counts()"
   ]
  },
  {
   "cell_type": "markdown",
   "metadata": {},
   "source": [
    "####  2) Melhorando a interação com o API\n",
    "Observe dois URLs de consultas diferentes, por exemplo o URL utilizado em aula, e o URL feito no exercício anterior. Compare-os e observe as diferenças.\n",
    "\n",
    "1. Faça uma função em Python que recebe como argumento o UF da consulta e o tipo de interessado (```'Estado'```ou ```Município```), e que devolve os dados da consulta no formato *DataFrame*.\n",
    "2. Quantas solicitações para o Estado podem ser consultadas para Minas Gerais com *status* em 'Arquivado por decurso de prazo' estão registradas?\n",
    "3. Qual é o município da Bahia com mais solicitações deferidas?\n",
    "4. Salve um arquivo .csv com os dados de solicitações da Bahia, com interessado = 'Estado'"
   ]
  },
  {
   "cell_type": "code",
   "execution_count": 49,
   "metadata": {},
   "outputs": [],
   "source": [
    "#1) Seu código aqui\n",
    "url_estado_RJ = 'https://apidatalake.tesouro.gov.br/ords/sadipem/tt/pvl?uf=RJ&tipo_interessado=Estado'\n",
    "url_municipio_RJ = 'https://apidatalake.tesouro.gov.br/ords/sadipem/tt/pvl?uf=RJ&tipo_interessado=Munic%C3%ADpio'"
   ]
  },
  {
   "cell_type": "code",
   "execution_count": 50,
   "metadata": {},
   "outputs": [],
   "source": [
    "def interessado(UF, url):\n",
    "    UF = UF.upper()\n",
    "    lista_uf = ['AC', 'AL', 'AM', 'AP', 'BA', 'CE', 'DF', 'ES', 'GO', 'MA', 'MG', 'MS', 'MT', 'PA', 'PB', 'PE', 'PI', 'PR', 'RJ', 'RN', 'RO'\n",
    "               , 'RR', 'RS', 'SC', 'SE', 'SP', 'TO']\n",
    "    if UF in lista_uf:\n",
    "        r = requests.get(url)\n",
    "        r.status_code\n",
    "        data_estado = r.json()\n",
    "        df_UF = pd.DataFrame(data_estado['items'])\n",
    "        return df_UF\n",
    "    else:\n",
    "        return('Digite uma informação válida')"
   ]
  },
  {
   "cell_type": "code",
   "execution_count": 76,
   "metadata": {},
   "outputs": [],
   "source": [
    "df_estado_RJ = interessado('RJ', url_estado_RJ)"
   ]
  },
  {
   "cell_type": "code",
   "execution_count": 63,
   "metadata": {},
   "outputs": [],
   "source": [
    "# 2) Seu código aqui\n",
    "url_mg = 'https://apidatalake.tesouro.gov.br/ords/sadipem/tt/pvl?uf=MG&tipo_interessado=Estado'\n",
    "r = requests.get(url_mg)\n",
    "data_json = r.json()\n",
    "df_mg = pd.DataFrame(data_json['items'])"
   ]
  },
  {
   "cell_type": "code",
   "execution_count": 73,
   "metadata": {},
   "outputs": [
    {
     "data": {
      "text/html": [
       "<div>\n",
       "<style scoped>\n",
       "    .dataframe tbody tr th:only-of-type {\n",
       "        vertical-align: middle;\n",
       "    }\n",
       "\n",
       "    .dataframe tbody tr th {\n",
       "        vertical-align: top;\n",
       "    }\n",
       "\n",
       "    .dataframe thead th {\n",
       "        text-align: right;\n",
       "    }\n",
       "</style>\n",
       "<table border=\"1\" class=\"dataframe\">\n",
       "  <thead>\n",
       "    <tr style=\"text-align: right;\">\n",
       "      <th></th>\n",
       "      <th>id_pleito</th>\n",
       "      <th>tipo_interessado</th>\n",
       "      <th>interessado</th>\n",
       "      <th>cod_ibge</th>\n",
       "      <th>uf</th>\n",
       "      <th>num_pvl</th>\n",
       "      <th>status</th>\n",
       "      <th>num_processo</th>\n",
       "      <th>data_protocolo</th>\n",
       "      <th>tipo_operacao</th>\n",
       "      <th>finalidade</th>\n",
       "      <th>tipo_credor</th>\n",
       "      <th>credor</th>\n",
       "      <th>moeda</th>\n",
       "      <th>valor</th>\n",
       "      <th>pvl_assoc_divida</th>\n",
       "      <th>pvl_contradado_credor</th>\n",
       "      <th>data_status</th>\n",
       "    </tr>\n",
       "  </thead>\n",
       "  <tbody>\n",
       "    <tr>\n",
       "      <th>35</th>\n",
       "      <td>20534</td>\n",
       "      <td>Estado</td>\n",
       "      <td>Minas Gerais</td>\n",
       "      <td>31</td>\n",
       "      <td>MG</td>\n",
       "      <td>00000.000000/2017-69</td>\n",
       "      <td>Arquivado por decurso de prazo</td>\n",
       "      <td>17944.001113/2015-60</td>\n",
       "      <td>2017-07-26T03:00:00Z</td>\n",
       "      <td>Operação contratual interna</td>\n",
       "      <td>PMAE</td>\n",
       "      <td>Instituição Financeira Nacional</td>\n",
       "      <td>Banco Nacional de Desenvolvimento Econômico e ...</td>\n",
       "      <td>Real</td>\n",
       "      <td>7668000.0</td>\n",
       "      <td>0</td>\n",
       "      <td>0</td>\n",
       "      <td>16/03/2018</td>\n",
       "    </tr>\n",
       "  </tbody>\n",
       "</table>\n",
       "</div>"
      ],
      "text/plain": [
       "    id_pleito tipo_interessado   interessado  cod_ibge  uf  \\\n",
       "35      20534           Estado  Minas Gerais        31  MG   \n",
       "\n",
       "                 num_pvl                          status  \\\n",
       "35  00000.000000/2017-69  Arquivado por decurso de prazo   \n",
       "\n",
       "            num_processo        data_protocolo                tipo_operacao  \\\n",
       "35  17944.001113/2015-60  2017-07-26T03:00:00Z  Operação contratual interna   \n",
       "\n",
       "   finalidade                      tipo_credor  \\\n",
       "35       PMAE  Instituição Financeira Nacional   \n",
       "\n",
       "                                               credor moeda      valor  \\\n",
       "35  Banco Nacional de Desenvolvimento Econômico e ...  Real  7668000.0   \n",
       "\n",
       "    pvl_assoc_divida  pvl_contradado_credor data_status  \n",
       "35                 0                      0  16/03/2018  "
      ]
     },
     "execution_count": 73,
     "metadata": {},
     "output_type": "execute_result"
    }
   ],
   "source": [
    "df_mg[df_mg['status'] == 'Arquivado por decurso de prazo']"
   ]
  },
  {
   "cell_type": "code",
   "execution_count": 81,
   "metadata": {},
   "outputs": [],
   "source": [
    "# 3) Seu código aqui\n",
    "url_ba = 'https://apidatalake.tesouro.gov.br/ords/sadipem/tt/pvl?uf=BA&tipo_interessado=Munic%C3%ADpio'\n",
    "r = requests.get(url_ba)\n",
    "data_json = r.json()\n",
    "df_ba = pd.DataFrame(data_json['items'])"
   ]
  },
  {
   "cell_type": "code",
   "execution_count": 86,
   "metadata": {},
   "outputs": [
    {
     "data": {
      "text/plain": [
       "interessado\n",
       "Camaçari                    20\n",
       "Luís Eduardo Magalhães      19\n",
       "Salvador                    19\n",
       "Amargosa                    16\n",
       "Vitória da Conquista        16\n",
       "                            ..\n",
       "Taperoá                      1\n",
       "Presidente Jânio Quadros     1\n",
       "Aratuípe                     1\n",
       "Santaluz                     1\n",
       "Ubaíra                       1\n",
       "Name: count, Length: 301, dtype: int64"
      ]
     },
     "execution_count": 86,
     "metadata": {},
     "output_type": "execute_result"
    }
   ],
   "source": [
    "df_ba.interessado.value_counts()"
   ]
  },
  {
   "cell_type": "code",
   "execution_count": 98,
   "metadata": {},
   "outputs": [],
   "source": [
    "# 4) Seu código aqui\n",
    "url_estado_ba = 'https://apidatalake.tesouro.gov.br/ords/sadipem/tt/pvl?uf=BA&tipo_interessado=Estado'\n",
    "r = requests.get(url_estado_ba)\n",
    "data_json = r.json()\n",
    "df_estado_ba = pd.DataFrame(data_json['items'])"
   ]
  },
  {
   "cell_type": "code",
   "execution_count": 99,
   "metadata": {},
   "outputs": [],
   "source": [
    "df_estado_ba.to_csv('dataframe_bahia_interessado_estado.csv')"
   ]
  }
 ],
 "metadata": {
  "kernelspec": {
   "display_name": "Python 3 (ipykernel)",
   "language": "python",
   "name": "python3"
  },
  "language_info": {
   "codemirror_mode": {
    "name": "ipython",
    "version": 3
   },
   "file_extension": ".py",
   "mimetype": "text/x-python",
   "name": "python",
   "nbconvert_exporter": "python",
   "pygments_lexer": "ipython3",
   "version": "3.11.7"
  }
 },
 "nbformat": 4,
 "nbformat_minor": 4
}
